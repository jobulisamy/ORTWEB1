{
 "cells": [
  {
   "cell_type": "code",
   "execution_count": 1,
   "metadata": {},
   "outputs": [
    {
     "name": "stdout",
     "output_type": "stream",
     "text": [
      "Requirement already satisfied: torch in c:\\users\\jaios\\anaconda3\\envs\\imageclass\\lib\\site-packages (2.3.1)\n",
      "Requirement already satisfied: filelock in c:\\users\\jaios\\anaconda3\\envs\\imageclass\\lib\\site-packages (from torch) (3.15.4)\n",
      "Requirement already satisfied: typing-extensions>=4.8.0 in c:\\users\\jaios\\anaconda3\\envs\\imageclass\\lib\\site-packages (from torch) (4.10.0)\n",
      "Requirement already satisfied: sympy in c:\\users\\jaios\\anaconda3\\envs\\imageclass\\lib\\site-packages (from torch) (1.12.1)\n",
      "Requirement already satisfied: networkx in c:\\users\\jaios\\anaconda3\\envs\\imageclass\\lib\\site-packages (from torch) (3.3)\n",
      "Requirement already satisfied: jinja2 in c:\\users\\jaios\\anaconda3\\envs\\imageclass\\lib\\site-packages (from torch) (3.1.4)\n",
      "Requirement already satisfied: fsspec in c:\\users\\jaios\\anaconda3\\envs\\imageclass\\lib\\site-packages (from torch) (2024.6.0)\n",
      "Requirement already satisfied: mkl<=2021.4.0,>=2021.1.1 in c:\\users\\jaios\\anaconda3\\envs\\imageclass\\lib\\site-packages (from torch) (2021.4.0)\n",
      "Requirement already satisfied: intel-openmp==2021.* in c:\\users\\jaios\\anaconda3\\envs\\imageclass\\lib\\site-packages (from mkl<=2021.4.0,>=2021.1.1->torch) (2021.4.0)\n",
      "Requirement already satisfied: tbb==2021.* in c:\\users\\jaios\\anaconda3\\envs\\imageclass\\lib\\site-packages (from mkl<=2021.4.0,>=2021.1.1->torch) (2021.13.0)\n",
      "Requirement already satisfied: MarkupSafe>=2.0 in c:\\users\\jaios\\anaconda3\\envs\\imageclass\\lib\\site-packages (from jinja2->torch) (2.1.5)\n",
      "Requirement already satisfied: mpmath<1.4.0,>=1.1.0 in c:\\users\\jaios\\anaconda3\\envs\\imageclass\\lib\\site-packages (from sympy->torch) (1.3.0)\n",
      "Note: you may need to restart the kernel to use updated packages.\n"
     ]
    }
   ],
   "source": [
    "pip install torch"
   ]
  },
  {
   "cell_type": "code",
   "execution_count": 2,
   "metadata": {},
   "outputs": [
    {
     "name": "stdout",
     "output_type": "stream",
     "text": [
      "Requirement already satisfied: numpy==2 in c:\\users\\jaios\\anaconda3\\envs\\imageclass\\lib\\site-packages (2.0.0)\n",
      "Note: you may need to restart the kernel to use updated packages.\n"
     ]
    }
   ],
   "source": [
    "pip install --upgrade numpy==2"
   ]
  },
  {
   "cell_type": "code",
   "execution_count": 3,
   "metadata": {},
   "outputs": [
    {
     "name": "stdout",
     "output_type": "stream",
     "text": [
      "Package                      Version\n",
      "---------------------------- ---------\n",
      "absl-py                      2.1.0\n",
      "asttokens                    2.4.1\n",
      "astunparse                   1.6.3\n",
      "Cerberus                     1.3.5\n",
      "certifi                      2024.2.2\n",
      "charset-normalizer           3.3.2\n",
      "colorama                     0.4.6\n",
      "coloredlogs                  15.0.1\n",
      "comm                         0.2.2\n",
      "contourpy                    1.2.0\n",
      "cycler                       0.12.1\n",
      "debugpy                      1.8.1\n",
      "decorator                    5.1.1\n",
      "exceptiongroup               1.2.0\n",
      "executing                    2.0.1\n",
      "filelock                     3.15.4\n",
      "flatbuffers                  24.3.25\n",
      "fonttools                    4.50.0\n",
      "fsspec                       2024.6.0\n",
      "gast                         0.5.4\n",
      "google-pasta                 0.2.0\n",
      "grpcio                       1.62.1\n",
      "h5py                         3.11.0\n",
      "humanfriendly                10.0\n",
      "idna                         3.6\n",
      "importlib_metadata           8.0.0\n",
      "intel-openmp                 2021.4.0\n",
      "ipykernel                    6.29.4\n",
      "ipython                      8.22.2\n",
      "jedi                         0.19.1\n",
      "Jinja2                       3.1.4\n",
      "jupyter_client               8.6.1\n",
      "jupyter_core                 5.7.2\n",
      "keras                        3.1.1\n",
      "kiwisolver                   1.4.5\n",
      "libclang                     18.1.1\n",
      "Markdown                     3.6\n",
      "markdown-it-py               3.0.0\n",
      "MarkupSafe                   2.1.5\n",
      "matplotlib                   3.8.3\n",
      "matplotlib-inline            0.1.6\n",
      "mdurl                        0.1.2\n",
      "mkl                          2021.4.0\n",
      "ml-dtypes                    0.3.2\n",
      "mpmath                       1.3.0\n",
      "namex                        0.0.7\n",
      "nest_asyncio                 1.6.0\n",
      "netron                       7.7.4\n",
      "networkx                     3.3\n",
      "numpy                        2.0.0\n",
      "onnx                         1.16.1\n",
      "onnxruntime                  1.18.0\n",
      "onnxruntime-training         1.15.1\n",
      "opencv-python                4.9.0.80\n",
      "opt-einsum                   3.3.0\n",
      "optree                       0.11.0\n",
      "packaging                    24.0\n",
      "parso                        0.8.3\n",
      "pickleshare                  0.7.5\n",
      "pillow                       10.2.0\n",
      "pip                          24.0\n",
      "platformdirs                 4.2.0\n",
      "prompt-toolkit               3.0.43\n",
      "protobuf                     4.25.3\n",
      "psutil                       5.9.8\n",
      "pure-eval                    0.2.2\n",
      "Pygments                     2.17.2\n",
      "pyparsing                    3.1.2\n",
      "pyreadline3                  3.4.1\n",
      "python-dateutil              2.9.0\n",
      "pywin32                      306\n",
      "pyzmq                        25.1.2\n",
      "requests                     2.31.0\n",
      "rich                         13.7.1\n",
      "setuptools                   70.1.1\n",
      "six                          1.16.0\n",
      "stack-data                   0.6.2\n",
      "sympy                        1.12.1\n",
      "tbb                          2021.13.0\n",
      "tensorboard                  2.16.2\n",
      "tensorboard-data-server      0.7.2\n",
      "tensorflow                   2.16.1\n",
      "tensorflow-cpu               2.16.1\n",
      "tensorflow-intel             2.16.1\n",
      "tensorflow-io-gcs-filesystem 0.31.0\n",
      "termcolor                    2.4.0\n",
      "torch                        2.3.1\n",
      "tornado                      6.4.1\n",
      "traitlets                    5.14.2\n",
      "typing_extensions            4.10.0\n",
      "urllib3                      2.2.1\n",
      "wcwidth                      0.2.13\n",
      "Werkzeug                     3.0.1\n",
      "wheel                        0.43.0\n",
      "wrapt                        1.16.0\n",
      "zipp                         3.19.2\n",
      "Note: you may need to restart the kernel to use updated packages.\n"
     ]
    }
   ],
   "source": [
    "pip list"
   ]
  },
  {
   "cell_type": "code",
   "execution_count": null,
   "metadata": {},
   "outputs": [],
   "source": []
  },
  {
   "cell_type": "code",
   "execution_count": 4,
   "metadata": {},
   "outputs": [
    {
     "name": "stderr",
     "output_type": "stream",
     "text": [
      "\n",
      "A module that was compiled using NumPy 1.x cannot be run in\n",
      "NumPy 2.0.0 as it may crash. To support both 1.x and 2.x\n",
      "versions of NumPy, modules must be compiled with NumPy 2.0.\n",
      "Some module may need to rebuild instead e.g. with 'pybind11>=2.12'.\n",
      "\n",
      "If you are a user of the module, the easiest solution will be to\n",
      "downgrade to 'numpy<2' or try to upgrade the affected module.\n",
      "We expect that some modules will need time to support NumPy 2.\n",
      "\n",
      "Traceback (most recent call last):  File \"c:\\Users\\JaiOS\\anaconda3\\envs\\imageclass\\lib\\runpy.py\", line 196, in _run_module_as_main\n",
      "    return _run_code(code, main_globals, None,\n",
      "  File \"c:\\Users\\JaiOS\\anaconda3\\envs\\imageclass\\lib\\runpy.py\", line 86, in _run_code\n",
      "    exec(code, run_globals)\n",
      "  File \"c:\\Users\\JaiOS\\anaconda3\\envs\\imageclass\\lib\\site-packages\\ipykernel_launcher.py\", line 18, in <module>\n",
      "    app.launch_new_instance()\n",
      "  File \"c:\\Users\\JaiOS\\anaconda3\\envs\\imageclass\\lib\\site-packages\\traitlets\\config\\application.py\", line 1075, in launch_instance\n",
      "    app.start()\n",
      "  File \"c:\\Users\\JaiOS\\anaconda3\\envs\\imageclass\\lib\\site-packages\\ipykernel\\kernelapp.py\", line 739, in start\n",
      "    self.io_loop.start()\n",
      "  File \"c:\\Users\\JaiOS\\anaconda3\\envs\\imageclass\\lib\\site-packages\\tornado\\platform\\asyncio.py\", line 205, in start\n",
      "    self.asyncio_loop.run_forever()\n",
      "  File \"c:\\Users\\JaiOS\\anaconda3\\envs\\imageclass\\lib\\asyncio\\base_events.py\", line 603, in run_forever\n",
      "    self._run_once()\n",
      "  File \"c:\\Users\\JaiOS\\anaconda3\\envs\\imageclass\\lib\\asyncio\\base_events.py\", line 1909, in _run_once\n",
      "    handle._run()\n",
      "  File \"c:\\Users\\JaiOS\\anaconda3\\envs\\imageclass\\lib\\asyncio\\events.py\", line 80, in _run\n",
      "    self._context.run(self._callback, *self._args)\n",
      "  File \"c:\\Users\\JaiOS\\anaconda3\\envs\\imageclass\\lib\\site-packages\\ipykernel\\kernelbase.py\", line 545, in dispatch_queue\n",
      "    await self.process_one()\n",
      "  File \"c:\\Users\\JaiOS\\anaconda3\\envs\\imageclass\\lib\\site-packages\\ipykernel\\kernelbase.py\", line 534, in process_one\n",
      "    await dispatch(*args)\n",
      "  File \"c:\\Users\\JaiOS\\anaconda3\\envs\\imageclass\\lib\\site-packages\\ipykernel\\kernelbase.py\", line 437, in dispatch_shell\n",
      "    await result\n",
      "  File \"c:\\Users\\JaiOS\\anaconda3\\envs\\imageclass\\lib\\site-packages\\ipykernel\\ipkernel.py\", line 362, in execute_request\n",
      "    await super().execute_request(stream, ident, parent)\n",
      "  File \"c:\\Users\\JaiOS\\anaconda3\\envs\\imageclass\\lib\\site-packages\\ipykernel\\kernelbase.py\", line 778, in execute_request\n",
      "    reply_content = await reply_content\n",
      "  File \"c:\\Users\\JaiOS\\anaconda3\\envs\\imageclass\\lib\\site-packages\\ipykernel\\ipkernel.py\", line 449, in do_execute\n",
      "    res = shell.run_cell(\n",
      "  File \"c:\\Users\\JaiOS\\anaconda3\\envs\\imageclass\\lib\\site-packages\\ipykernel\\zmqshell.py\", line 549, in run_cell\n",
      "    return super().run_cell(*args, **kwargs)\n",
      "  File \"c:\\Users\\JaiOS\\anaconda3\\envs\\imageclass\\lib\\site-packages\\IPython\\core\\interactiveshell.py\", line 3075, in run_cell\n",
      "    result = self._run_cell(\n",
      "  File \"c:\\Users\\JaiOS\\anaconda3\\envs\\imageclass\\lib\\site-packages\\IPython\\core\\interactiveshell.py\", line 3130, in _run_cell\n",
      "    result = runner(coro)\n",
      "  File \"c:\\Users\\JaiOS\\anaconda3\\envs\\imageclass\\lib\\site-packages\\IPython\\core\\async_helpers.py\", line 129, in _pseudo_sync_runner\n",
      "    coro.send(None)\n",
      "  File \"c:\\Users\\JaiOS\\anaconda3\\envs\\imageclass\\lib\\site-packages\\IPython\\core\\interactiveshell.py\", line 3334, in run_cell_async\n",
      "    has_raised = await self.run_ast_nodes(code_ast.body, cell_name,\n",
      "  File \"c:\\Users\\JaiOS\\anaconda3\\envs\\imageclass\\lib\\site-packages\\IPython\\core\\interactiveshell.py\", line 3517, in run_ast_nodes\n",
      "    if await self.run_code(code, result, async_=asy):\n",
      "  File \"c:\\Users\\JaiOS\\anaconda3\\envs\\imageclass\\lib\\site-packages\\IPython\\core\\interactiveshell.py\", line 3577, in run_code\n",
      "    exec(code_obj, self.user_global_ns, self.user_ns)\n",
      "  File \"C:\\Users\\JaiOS\\AppData\\Local\\Temp\\ipykernel_22700\\2994553197.py\", line 4, in <module>\n",
      "    import torch.onnx\n",
      "  File \"c:\\Users\\JaiOS\\anaconda3\\envs\\imageclass\\lib\\site-packages\\torch\\onnx\\__init__.py\", line 59, in <module>\n",
      "    from ._internal.onnxruntime import (\n",
      "  File \"c:\\Users\\JaiOS\\anaconda3\\envs\\imageclass\\lib\\site-packages\\torch\\onnx\\_internal\\onnxruntime.py\", line 37, in <module>\n",
      "    import onnxruntime  # type: ignore[import]\n",
      "  File \"c:\\Users\\JaiOS\\anaconda3\\envs\\imageclass\\lib\\site-packages\\onnxruntime\\__init__.py\", line 23, in <module>\n",
      "    from onnxruntime.capi._pybind_state import ExecutionMode  # noqa: F401\n",
      "  File \"c:\\Users\\JaiOS\\anaconda3\\envs\\imageclass\\lib\\site-packages\\onnxruntime\\capi\\_pybind_state.py\", line 33, in <module>\n",
      "    from .onnxruntime_pybind11_state import *  # noqa\n"
     ]
    },
    {
     "ename": "AttributeError",
     "evalue": "_ARRAY_API not found",
     "output_type": "error",
     "traceback": [
      "\u001b[1;31m---------------------------------------------------------------------------\u001b[0m",
      "\u001b[1;31mAttributeError\u001b[0m                            Traceback (most recent call last)",
      "\u001b[1;31mAttributeError\u001b[0m: _ARRAY_API not found"
     ]
    },
    {
     "ename": "SystemError",
     "evalue": "<built-in function __import__> returned a result with an exception set",
     "output_type": "error",
     "traceback": [
      "\u001b[1;31m---------------------------------------------------------------------------\u001b[0m",
      "\u001b[1;31mImportError\u001b[0m                               Traceback (most recent call last)",
      "\u001b[1;31mImportError\u001b[0m: numpy.core.multiarray failed to import",
      "\nThe above exception was the direct cause of the following exception:\n",
      "\u001b[1;31mSystemError\u001b[0m                               Traceback (most recent call last)",
      "\u001b[1;31mSystemError\u001b[0m: <built-in function __import__> returned a result with an exception set"
     ]
    }
   ],
   "source": [
    "import torch\n",
    "import torch.nn as nn\n",
    "import torch.nn.functional as F\n",
    "import torch.onnx"
   ]
  },
  {
   "cell_type": "code",
   "execution_count": 5,
   "metadata": {},
   "outputs": [],
   "source": [
    "class T1Train(nn.Module):\n",
    "    def __init__(self):\n",
    "        super(T1Train, self).__init__()\n",
    "        self.conv1 = nn.Conv2d(3, 6, 5)\n",
    "        self.pool = nn.MaxPool2d(2, 2)\n",
    "        self.conv2 = nn.Conv2d(6, 16, 5)\n",
    "        self.fc1 = nn.Linear(16 * 5 * 5 , 120)\n",
    "        self.fc2 = nn.Linear(120, 84)\n",
    "        self.fc3 = nn.Linear(84, 2) \n",
    "\n",
    "    def forward(self, x):\n",
    "        x = self.pool(F.relu(self.conv1(x)))\n",
    "        x = self.pool(F.relu(self.conv2(x)))\n",
    "        x = x.view(-1, 16 * 5 * 5)\n",
    "        x = F.relu(self.fc1(x))\n",
    "        x = F.relu(self.fc2(x))\n",
    "        x = self.fc3(x)\n",
    "        return x\n"
   ]
  },
  {
   "cell_type": "code",
   "execution_count": 6,
   "metadata": {},
   "outputs": [],
   "source": [
    "device = \"cpu\""
   ]
  },
  {
   "cell_type": "code",
   "execution_count": 7,
   "metadata": {},
   "outputs": [],
   "source": [
    "#pip install numpy==1.26.4"
   ]
  },
  {
   "cell_type": "code",
   "execution_count": 8,
   "metadata": {},
   "outputs": [
    {
     "name": "stdout",
     "output_type": "stream",
     "text": [
      "Requirement already satisfied: onnx in c:\\users\\jaios\\anaconda3\\envs\\imageclass\\lib\\site-packages (1.16.1)\n",
      "Requirement already satisfied: numpy>=1.20 in c:\\users\\jaios\\anaconda3\\envs\\imageclass\\lib\\site-packages (from onnx) (2.0.0)\n",
      "Requirement already satisfied: protobuf>=3.20.2 in c:\\users\\jaios\\anaconda3\\envs\\imageclass\\lib\\site-packages (from onnx) (4.25.3)\n",
      "Note: you may need to restart the kernel to use updated packages.\n"
     ]
    }
   ],
   "source": [
    "pip install onnx"
   ]
  },
  {
   "cell_type": "code",
   "execution_count": 9,
   "metadata": {},
   "outputs": [
    {
     "name": "stdout",
     "output_type": "stream",
     "text": [
      "Requirement already satisfied: onnxruntime in c:\\users\\jaios\\anaconda3\\envs\\imageclass\\lib\\site-packages (1.18.0)\n",
      "Requirement already satisfied: coloredlogs in c:\\users\\jaios\\anaconda3\\envs\\imageclass\\lib\\site-packages (from onnxruntime) (15.0.1)\n",
      "Requirement already satisfied: flatbuffers in c:\\users\\jaios\\anaconda3\\envs\\imageclass\\lib\\site-packages (from onnxruntime) (24.3.25)\n",
      "Requirement already satisfied: numpy>=1.21.6 in c:\\users\\jaios\\anaconda3\\envs\\imageclass\\lib\\site-packages (from onnxruntime) (2.0.0)\n",
      "Requirement already satisfied: packaging in c:\\users\\jaios\\anaconda3\\envs\\imageclass\\lib\\site-packages (from onnxruntime) (24.0)\n",
      "Requirement already satisfied: protobuf in c:\\users\\jaios\\anaconda3\\envs\\imageclass\\lib\\site-packages (from onnxruntime) (4.25.3)\n",
      "Requirement already satisfied: sympy in c:\\users\\jaios\\anaconda3\\envs\\imageclass\\lib\\site-packages (from onnxruntime) (1.12.1)\n",
      "Requirement already satisfied: humanfriendly>=9.1 in c:\\users\\jaios\\anaconda3\\envs\\imageclass\\lib\\site-packages (from coloredlogs->onnxruntime) (10.0)\n",
      "Requirement already satisfied: mpmath<1.4.0,>=1.1.0 in c:\\users\\jaios\\anaconda3\\envs\\imageclass\\lib\\site-packages (from sympy->onnxruntime) (1.3.0)\n",
      "Requirement already satisfied: pyreadline3 in c:\\users\\jaios\\anaconda3\\envs\\imageclass\\lib\\site-packages (from humanfriendly>=9.1->coloredlogs->onnxruntime) (3.4.1)\n",
      "Note: you may need to restart the kernel to use updated packages.\n"
     ]
    }
   ],
   "source": [
    "pip install onnxruntime"
   ]
  },
  {
   "cell_type": "code",
   "execution_count": 10,
   "metadata": {},
   "outputs": [
    {
     "name": "stdout",
     "output_type": "stream",
     "text": [
      "Requirement already satisfied: onnxruntime-training in c:\\users\\jaios\\anaconda3\\envs\\imageclass\\lib\\site-packages (1.15.1)\n",
      "Requirement already satisfied: cerberus in c:\\users\\jaios\\anaconda3\\envs\\imageclass\\lib\\site-packages (from onnxruntime-training) (1.3.5)\n",
      "Requirement already satisfied: flatbuffers in c:\\users\\jaios\\anaconda3\\envs\\imageclass\\lib\\site-packages (from onnxruntime-training) (24.3.25)\n",
      "Requirement already satisfied: h5py in c:\\users\\jaios\\anaconda3\\envs\\imageclass\\lib\\site-packages (from onnxruntime-training) (3.11.0)\n",
      "Requirement already satisfied: numpy>=1.16.6 in c:\\users\\jaios\\anaconda3\\envs\\imageclass\\lib\\site-packages (from onnxruntime-training) (2.0.0)\n",
      "Requirement already satisfied: onnx in c:\\users\\jaios\\anaconda3\\envs\\imageclass\\lib\\site-packages (from onnxruntime-training) (1.16.1)\n",
      "Requirement already satisfied: packaging in c:\\users\\jaios\\anaconda3\\envs\\imageclass\\lib\\site-packages (from onnxruntime-training) (24.0)\n",
      "Requirement already satisfied: protobuf in c:\\users\\jaios\\anaconda3\\envs\\imageclass\\lib\\site-packages (from onnxruntime-training) (4.25.3)\n",
      "Requirement already satisfied: sympy in c:\\users\\jaios\\anaconda3\\envs\\imageclass\\lib\\site-packages (from onnxruntime-training) (1.12.1)\n",
      "Requirement already satisfied: setuptools>=41.4.0 in c:\\users\\jaios\\anaconda3\\envs\\imageclass\\lib\\site-packages (from onnxruntime-training) (70.1.1)\n",
      "Requirement already satisfied: mpmath<1.4.0,>=1.1.0 in c:\\users\\jaios\\anaconda3\\envs\\imageclass\\lib\\site-packages (from sympy->onnxruntime-training) (1.3.0)\n",
      "Note: you may need to restart the kernel to use updated packages.\n"
     ]
    }
   ],
   "source": [
    "pip install onnxruntime-training"
   ]
  },
  {
   "cell_type": "code",
   "execution_count": 11,
   "metadata": {},
   "outputs": [
    {
     "name": "stdout",
     "output_type": "stream",
     "text": [
      "Requirement already satisfied: h5py in c:\\users\\jaios\\anaconda3\\envs\\imageclass\\lib\\site-packages (3.11.0)\n",
      "Requirement already satisfied: numpy>=1.17.3 in c:\\users\\jaios\\anaconda3\\envs\\imageclass\\lib\\site-packages (from h5py) (2.0.0)\n",
      "Note: you may need to restart the kernel to use updated packages.\n"
     ]
    }
   ],
   "source": [
    "pip install --upgrade h5py"
   ]
  },
  {
   "cell_type": "code",
   "execution_count": 12,
   "metadata": {},
   "outputs": [
    {
     "name": "stderr",
     "output_type": "stream",
     "text": [
      "\n",
      "A module that was compiled using NumPy 1.x cannot be run in\n",
      "NumPy 2.0.0 as it may crash. To support both 1.x and 2.x\n",
      "versions of NumPy, modules must be compiled with NumPy 2.0.\n",
      "Some module may need to rebuild instead e.g. with 'pybind11>=2.12'.\n",
      "\n",
      "If you are a user of the module, the easiest solution will be to\n",
      "downgrade to 'numpy<2' or try to upgrade the affected module.\n",
      "We expect that some modules will need time to support NumPy 2.\n",
      "\n",
      "Traceback (most recent call last):  File \"c:\\Users\\JaiOS\\anaconda3\\envs\\imageclass\\lib\\runpy.py\", line 196, in _run_module_as_main\n",
      "    return _run_code(code, main_globals, None,\n",
      "  File \"c:\\Users\\JaiOS\\anaconda3\\envs\\imageclass\\lib\\runpy.py\", line 86, in _run_code\n",
      "    exec(code, run_globals)\n",
      "  File \"c:\\Users\\JaiOS\\anaconda3\\envs\\imageclass\\lib\\site-packages\\ipykernel_launcher.py\", line 18, in <module>\n",
      "    app.launch_new_instance()\n",
      "  File \"c:\\Users\\JaiOS\\anaconda3\\envs\\imageclass\\lib\\site-packages\\traitlets\\config\\application.py\", line 1075, in launch_instance\n",
      "    app.start()\n",
      "  File \"c:\\Users\\JaiOS\\anaconda3\\envs\\imageclass\\lib\\site-packages\\ipykernel\\kernelapp.py\", line 739, in start\n",
      "    self.io_loop.start()\n",
      "  File \"c:\\Users\\JaiOS\\anaconda3\\envs\\imageclass\\lib\\site-packages\\tornado\\platform\\asyncio.py\", line 205, in start\n",
      "    self.asyncio_loop.run_forever()\n",
      "  File \"c:\\Users\\JaiOS\\anaconda3\\envs\\imageclass\\lib\\asyncio\\base_events.py\", line 603, in run_forever\n",
      "    self._run_once()\n",
      "  File \"c:\\Users\\JaiOS\\anaconda3\\envs\\imageclass\\lib\\asyncio\\base_events.py\", line 1909, in _run_once\n",
      "    handle._run()\n",
      "  File \"c:\\Users\\JaiOS\\anaconda3\\envs\\imageclass\\lib\\asyncio\\events.py\", line 80, in _run\n",
      "    self._context.run(self._callback, *self._args)\n",
      "  File \"c:\\Users\\JaiOS\\anaconda3\\envs\\imageclass\\lib\\site-packages\\ipykernel\\kernelbase.py\", line 545, in dispatch_queue\n",
      "    await self.process_one()\n",
      "  File \"c:\\Users\\JaiOS\\anaconda3\\envs\\imageclass\\lib\\site-packages\\ipykernel\\kernelbase.py\", line 534, in process_one\n",
      "    await dispatch(*args)\n",
      "  File \"c:\\Users\\JaiOS\\anaconda3\\envs\\imageclass\\lib\\site-packages\\ipykernel\\kernelbase.py\", line 437, in dispatch_shell\n",
      "    await result\n",
      "  File \"c:\\Users\\JaiOS\\anaconda3\\envs\\imageclass\\lib\\site-packages\\ipykernel\\ipkernel.py\", line 362, in execute_request\n",
      "    await super().execute_request(stream, ident, parent)\n",
      "  File \"c:\\Users\\JaiOS\\anaconda3\\envs\\imageclass\\lib\\site-packages\\ipykernel\\kernelbase.py\", line 778, in execute_request\n",
      "    reply_content = await reply_content\n",
      "  File \"c:\\Users\\JaiOS\\anaconda3\\envs\\imageclass\\lib\\site-packages\\ipykernel\\ipkernel.py\", line 449, in do_execute\n",
      "    res = shell.run_cell(\n",
      "  File \"c:\\Users\\JaiOS\\anaconda3\\envs\\imageclass\\lib\\site-packages\\ipykernel\\zmqshell.py\", line 549, in run_cell\n",
      "    return super().run_cell(*args, **kwargs)\n",
      "  File \"c:\\Users\\JaiOS\\anaconda3\\envs\\imageclass\\lib\\site-packages\\IPython\\core\\interactiveshell.py\", line 3075, in run_cell\n",
      "    result = self._run_cell(\n",
      "  File \"c:\\Users\\JaiOS\\anaconda3\\envs\\imageclass\\lib\\site-packages\\IPython\\core\\interactiveshell.py\", line 3130, in _run_cell\n",
      "    result = runner(coro)\n",
      "  File \"c:\\Users\\JaiOS\\anaconda3\\envs\\imageclass\\lib\\site-packages\\IPython\\core\\async_helpers.py\", line 129, in _pseudo_sync_runner\n",
      "    coro.send(None)\n",
      "  File \"c:\\Users\\JaiOS\\anaconda3\\envs\\imageclass\\lib\\site-packages\\IPython\\core\\interactiveshell.py\", line 3334, in run_cell_async\n",
      "    has_raised = await self.run_ast_nodes(code_ast.body, cell_name,\n",
      "  File \"c:\\Users\\JaiOS\\anaconda3\\envs\\imageclass\\lib\\site-packages\\IPython\\core\\interactiveshell.py\", line 3517, in run_ast_nodes\n",
      "    if await self.run_code(code, result, async_=asy):\n",
      "  File \"c:\\Users\\JaiOS\\anaconda3\\envs\\imageclass\\lib\\site-packages\\IPython\\core\\interactiveshell.py\", line 3577, in run_code\n",
      "    exec(code_obj, self.user_global_ns, self.user_ns)\n",
      "  File \"C:\\Users\\JaiOS\\AppData\\Local\\Temp\\ipykernel_22700\\1585216619.py\", line 1, in <module>\n",
      "    model = T1Train()\n",
      "  File \"C:\\Users\\JaiOS\\AppData\\Local\\Temp\\ipykernel_22700\\919409813.py\", line 4, in __init__\n",
      "    self.conv1 = nn.Conv2d(3, 6, 5)\n",
      "  File \"c:\\Users\\JaiOS\\anaconda3\\envs\\imageclass\\lib\\site-packages\\torch\\nn\\modules\\conv.py\", line 447, in __init__\n",
      "    super().__init__(\n",
      "  File \"c:\\Users\\JaiOS\\anaconda3\\envs\\imageclass\\lib\\site-packages\\torch\\nn\\modules\\conv.py\", line 141, in __init__\n",
      "    self.reset_parameters()\n",
      "  File \"c:\\Users\\JaiOS\\anaconda3\\envs\\imageclass\\lib\\site-packages\\torch\\nn\\modules\\conv.py\", line 147, in reset_parameters\n",
      "    init.kaiming_uniform_(self.weight, a=math.sqrt(5))\n",
      "  File \"c:\\Users\\JaiOS\\anaconda3\\envs\\imageclass\\lib\\site-packages\\torch\\nn\\init.py\", line 459, in kaiming_uniform_\n",
      "    return tensor.uniform_(-bound, bound, generator=generator)\n",
      "c:\\Users\\JaiOS\\anaconda3\\envs\\imageclass\\lib\\site-packages\\torch\\nn\\init.py:459: UserWarning: Failed to initialize NumPy: _ARRAY_API not found (Triggered internally at ..\\torch\\csrc\\utils\\tensor_numpy.cpp:84.)\n",
      "  return tensor.uniform_(-bound, bound, generator=generator)\n"
     ]
    }
   ],
   "source": [
    "model = T1Train()\n",
    "dummy_input = torch.randn(1, 3, 32, 32)\n",
    "torch.onnx.export(model, dummy_input, \"t1train.onnx\", export_params=True, do_constant_folding=False, training=torch.onnx.TrainingMode.TRAINING)"
   ]
  },
  {
   "cell_type": "code",
   "execution_count": 13,
   "metadata": {},
   "outputs": [],
   "source": [
    "import onnx\n",
    "from onnxruntime.training import artifacts, optim\n",
    "onnx_model = onnx.load(\"t1train.onnx\")"
   ]
  },
  {
   "cell_type": "code",
   "execution_count": 14,
   "metadata": {},
   "outputs": [],
   "source": [
    "requires_grad = [name for name, param in model.named_parameters() if param.requires_grad]\n",
    "frozen_params = [name for name, param in model.named_parameters() if not param.requires_grad]\n",
    "\n",
    "artifacts.generate_artifacts(\n",
    "                         onnx_model,\n",
    "                         optimizer=artifacts.OptimType.AdamW,\n",
    "                         loss=artifacts.LossType.CrossEntropyLoss,\n",
    "                         requires_grad=requires_grad,\n",
    "                         frozen_params=frozen_params,\n",
    "                         )\n"
   ]
  },
  {
   "cell_type": "code",
   "execution_count": 15,
   "metadata": {},
   "outputs": [
    {
     "name": "stdout",
     "output_type": "stream",
     "text": [
      "Requirement already satisfied: netron in c:\\users\\jaios\\anaconda3\\envs\\imageclass\\lib\\site-packages (7.7.4)\n",
      "Note: you may need to restart the kernel to use updated packages.\n"
     ]
    }
   ],
   "source": [
    "pip install netron"
   ]
  },
  {
   "cell_type": "code",
   "execution_count": 16,
   "metadata": {},
   "outputs": [],
   "source": [
    "import netron"
   ]
  },
  {
   "cell_type": "code",
   "execution_count": 17,
   "metadata": {},
   "outputs": [
    {
     "name": "stdout",
     "output_type": "stream",
     "text": [
      "Serving 'eval_model.onnx' at http://localhost:8080\n"
     ]
    },
    {
     "data": {
      "text/plain": [
       "('localhost', 8080)"
      ]
     },
     "execution_count": 17,
     "metadata": {},
     "output_type": "execute_result"
    }
   ],
   "source": [
    "netron.start(\"eval_model.onnx\")"
   ]
  },
  {
   "cell_type": "code",
   "execution_count": 18,
   "metadata": {},
   "outputs": [],
   "source": [
    "#pip install opencv-python"
   ]
  },
  {
   "cell_type": "code",
   "execution_count": 19,
   "metadata": {},
   "outputs": [],
   "source": [
    "import os\n",
    "#import cv2\n",
    "import imghdr"
   ]
  },
  {
   "cell_type": "code",
   "execution_count": 22,
   "metadata": {},
   "outputs": [],
   "source": [
    "data_dir = 'public/data'\n",
    "image_exists = ['jpeg', 'bmp', 'png']"
   ]
  },
  {
   "cell_type": "code",
   "execution_count": null,
   "metadata": {},
   "outputs": [],
   "source": []
  },
  {
   "cell_type": "code",
   "execution_count": 21,
   "metadata": {},
   "outputs": [
    {
     "ename": "FileNotFoundError",
     "evalue": "[WinError 3] The system cannot find the path specified: 'public\\\\data'",
     "output_type": "error",
     "traceback": [
      "\u001b[1;31m---------------------------------------------------------------------------\u001b[0m",
      "\u001b[1;31mFileNotFoundError\u001b[0m                         Traceback (most recent call last)",
      "Cell \u001b[1;32mIn[21], line 1\u001b[0m\n\u001b[1;32m----> 1\u001b[0m \u001b[38;5;28;01mfor\u001b[39;00m image_class \u001b[38;5;129;01min\u001b[39;00m \u001b[43mos\u001b[49m\u001b[38;5;241;43m.\u001b[39;49m\u001b[43mlistdir\u001b[49m\u001b[43m(\u001b[49m\u001b[43mdata_dir\u001b[49m\u001b[43m)\u001b[49m:\n\u001b[0;32m      2\u001b[0m     \u001b[38;5;66;03m#loop through every image in 'dog' and 'cat' folders\u001b[39;00m\n\u001b[0;32m      3\u001b[0m     \u001b[38;5;28;01mfor\u001b[39;00m image \u001b[38;5;129;01min\u001b[39;00m os\u001b[38;5;241m.\u001b[39mlistdir(os\u001b[38;5;241m.\u001b[39mpath\u001b[38;5;241m.\u001b[39mjoin(data_dir, image_class)):\n\u001b[0;32m      4\u001b[0m         \u001b[38;5;66;03m#'data' joins to 'dog' or 'cat' and image name, gets complete path\u001b[39;00m\n\u001b[0;32m      5\u001b[0m         image_path \u001b[38;5;241m=\u001b[39m os\u001b[38;5;241m.\u001b[39mpath\u001b[38;5;241m.\u001b[39mjoin(data_dir, image_class, image)\n",
      "\u001b[1;31mFileNotFoundError\u001b[0m: [WinError 3] The system cannot find the path specified: 'public\\\\data'"
     ]
    }
   ],
   "source": [
    "for image_class in os.listdir(data_dir):\n",
    "    #loop through every image in 'dog' and 'cat' folders\n",
    "    for image in os.listdir(os.path.join(data_dir, image_class)):\n",
    "        #'data' joins to 'dog' or 'cat' and image name, gets complete path\n",
    "        image_path = os.path.join(data_dir, image_class, image)\n",
    "        newpath = os.path.join(data_dir, image_class, image_class + image)\n",
    "        try: \n",
    "          \n",
    "            os.rename(image_path, newpath)\n",
    "            end = imghdr.what(image_path)\n",
    "            if end not in image_exists:\n",
    "                print('Image not in list {}'.format(image_path))\n",
    "                #remove file if it throws an error\n",
    "                os.remove(image_path)\n",
    "        except Exception as e: \n",
    "            print('Image passed {}'.format(image_path))"
   ]
  },
  {
   "cell_type": "code",
   "execution_count": null,
   "metadata": {},
   "outputs": [],
   "source": [
    "def create_labels_txt(folder_path, label_file):\n",
    "    with open(label_file, 'w') as f:\n",
    "        for file_name in os.listdir(folder_path):\n",
    "            if file_name.lower().endswith(('.jpeg', '.jpg', '.bmp', '.png')):\n",
    "                if 'cat' in file_name:\n",
    "                    f.write('0\\n')\n",
    "                elif 'dog' in file_name:\n",
    "                    f.write('1\\n')\n",
    "\n",
    "\n",
    "train_folder = \"train\"\n",
    "test_folder = 'test'\n",
    "\n",
    "#create_labels_txt(train_folder, 'train_labels.txt')\n",
    "create_labels_txt(test_folder, 'test_labels.txt')"
   ]
  },
  {
   "cell_type": "markdown",
   "metadata": {},
   "source": [
    "THIS IS THE END OF WORKING CODE"
   ]
  }
 ],
 "metadata": {
  "kernelspec": {
   "display_name": "Python 3",
   "language": "python",
   "name": "python3"
  },
  "language_info": {
   "codemirror_mode": {
    "name": "ipython",
    "version": 3
   },
   "file_extension": ".py",
   "mimetype": "text/x-python",
   "name": "python",
   "nbconvert_exporter": "python",
   "pygments_lexer": "ipython3",
   "version": "3.10.14"
  }
 },
 "nbformat": 4,
 "nbformat_minor": 2
}
